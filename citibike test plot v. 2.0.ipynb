{
 "cells": [
  {
   "cell_type": "code",
   "execution_count": 1,
   "metadata": {},
   "outputs": [],
   "source": [
    "import pandas as pd\n",
    "from matplotlib import pyplot as plt\n",
    "data = pd.read_csv('membership-data-2013.csv')"
   ]
  },
  {
   "cell_type": "code",
   "execution_count": 2,
   "metadata": {},
   "outputs": [
    {
     "data": {
      "text/html": [
       "<div>\n",
       "<style scoped>\n",
       "    .dataframe tbody tr th:only-of-type {\n",
       "        vertical-align: middle;\n",
       "    }\n",
       "\n",
       "    .dataframe tbody tr th {\n",
       "        vertical-align: top;\n",
       "    }\n",
       "\n",
       "    .dataframe thead th {\n",
       "        text-align: right;\n",
       "    }\n",
       "</style>\n",
       "<table border=\"1\" class=\"dataframe\">\n",
       "  <thead>\n",
       "    <tr style=\"text-align: right;\">\n",
       "      <th></th>\n",
       "      <th>Date</th>\n",
       "      <th>Trips over the past 24-hours (midnight to 11:59pm)</th>\n",
       "      <th>Cumulative trips (since launch):</th>\n",
       "      <th>Miles traveled today (midnight to 11:59 pm)</th>\n",
       "      <th>Miles traveled to date:</th>\n",
       "      <th>Total Annual Members</th>\n",
       "      <th>Annual Member Sign-Ups (midnight to 11:59 pm)</th>\n",
       "      <th>24-Hour Passes Purchased (midnight to 11:59 pm)</th>\n",
       "      <th>7-Day Passes Purchased (midnight to 11:59 pm)</th>\n",
       "    </tr>\n",
       "  </thead>\n",
       "  <tbody>\n",
       "    <tr>\n",
       "      <td>0</td>\n",
       "      <td>5/27/2013</td>\n",
       "      <td>9767</td>\n",
       "      <td>9767</td>\n",
       "      <td>21.533</td>\n",
       "      <td>21,533</td>\n",
       "      <td>17216</td>\n",
       "      <td>2043</td>\n",
       "      <td>0</td>\n",
       "      <td>0</td>\n",
       "    </tr>\n",
       "    <tr>\n",
       "      <td>1</td>\n",
       "      <td>5/28/2013</td>\n",
       "      <td>5215</td>\n",
       "      <td>14982</td>\n",
       "      <td>8.780</td>\n",
       "      <td>30,313</td>\n",
       "      <td>19816</td>\n",
       "      <td>2598</td>\n",
       "      <td>0</td>\n",
       "      <td>0</td>\n",
       "    </tr>\n",
       "    <tr>\n",
       "      <td>2</td>\n",
       "      <td>5/29/2013</td>\n",
       "      <td>10981</td>\n",
       "      <td>25963</td>\n",
       "      <td>21.898</td>\n",
       "      <td>52,211</td>\n",
       "      <td>21986</td>\n",
       "      <td>2167</td>\n",
       "      <td>0</td>\n",
       "      <td>0</td>\n",
       "    </tr>\n",
       "    <tr>\n",
       "      <td>3</td>\n",
       "      <td>5/30/2013</td>\n",
       "      <td>9850</td>\n",
       "      <td>35813</td>\n",
       "      <td>20.321</td>\n",
       "      <td>72,532</td>\n",
       "      <td>23985</td>\n",
       "      <td>1998</td>\n",
       "      <td>0</td>\n",
       "      <td>0</td>\n",
       "    </tr>\n",
       "    <tr>\n",
       "      <td>4</td>\n",
       "      <td>5/31/2013</td>\n",
       "      <td>9253</td>\n",
       "      <td>45066</td>\n",
       "      <td>20.243</td>\n",
       "      <td>92,775</td>\n",
       "      <td>25615</td>\n",
       "      <td>1630</td>\n",
       "      <td>0</td>\n",
       "      <td>0</td>\n",
       "    </tr>\n",
       "    <tr>\n",
       "      <td>...</td>\n",
       "      <td>...</td>\n",
       "      <td>...</td>\n",
       "      <td>...</td>\n",
       "      <td>...</td>\n",
       "      <td>...</td>\n",
       "      <td>...</td>\n",
       "      <td>...</td>\n",
       "      <td>...</td>\n",
       "      <td>...</td>\n",
       "    </tr>\n",
       "    <tr>\n",
       "      <td>122</td>\n",
       "      <td>9/26/2013</td>\n",
       "      <td>42247</td>\n",
       "      <td>3811754</td>\n",
       "      <td>68.646</td>\n",
       "      <td>7,354,431</td>\n",
       "      <td>84305</td>\n",
       "      <td>175</td>\n",
       "      <td>973</td>\n",
       "      <td>117</td>\n",
       "    </tr>\n",
       "    <tr>\n",
       "      <td>123</td>\n",
       "      <td>9/27/2013</td>\n",
       "      <td>41368</td>\n",
       "      <td>3853122</td>\n",
       "      <td>68.977</td>\n",
       "      <td>7,423,409</td>\n",
       "      <td>84519</td>\n",
       "      <td>213</td>\n",
       "      <td>1321</td>\n",
       "      <td>137</td>\n",
       "    </tr>\n",
       "    <tr>\n",
       "      <td>124</td>\n",
       "      <td>9/28/2013</td>\n",
       "      <td>38939</td>\n",
       "      <td>3892061</td>\n",
       "      <td>78.400</td>\n",
       "      <td>7,501,809</td>\n",
       "      <td>84712</td>\n",
       "      <td>193</td>\n",
       "      <td>3452</td>\n",
       "      <td>126</td>\n",
       "    </tr>\n",
       "    <tr>\n",
       "      <td>125</td>\n",
       "      <td>9/29/2013</td>\n",
       "      <td>36040</td>\n",
       "      <td>3928101</td>\n",
       "      <td>70.652</td>\n",
       "      <td>7,572,461</td>\n",
       "      <td>84913</td>\n",
       "      <td>201</td>\n",
       "      <td>2718</td>\n",
       "      <td>161</td>\n",
       "    </tr>\n",
       "    <tr>\n",
       "      <td>126</td>\n",
       "      <td>9/30/2013</td>\n",
       "      <td>41079</td>\n",
       "      <td>3969180</td>\n",
       "      <td>67.168</td>\n",
       "      <td>7,639,629</td>\n",
       "      <td>85236</td>\n",
       "      <td>323</td>\n",
       "      <td>1023</td>\n",
       "      <td>140</td>\n",
       "    </tr>\n",
       "  </tbody>\n",
       "</table>\n",
       "<p>127 rows × 9 columns</p>\n",
       "</div>"
      ],
      "text/plain": [
       "          Date  Trips over the past 24-hours (midnight to 11:59pm)  \\\n",
       "0    5/27/2013                                               9767    \n",
       "1    5/28/2013                                               5215    \n",
       "2    5/29/2013                                              10981    \n",
       "3    5/30/2013                                               9850    \n",
       "4    5/31/2013                                               9253    \n",
       "..         ...                                                ...    \n",
       "122  9/26/2013                                              42247    \n",
       "123  9/27/2013                                              41368    \n",
       "124  9/28/2013                                              38939    \n",
       "125  9/29/2013                                              36040    \n",
       "126  9/30/2013                                              41079    \n",
       "\n",
       "     Cumulative trips (since launch):  \\\n",
       "0                                9767   \n",
       "1                               14982   \n",
       "2                               25963   \n",
       "3                               35813   \n",
       "4                               45066   \n",
       "..                                ...   \n",
       "122                           3811754   \n",
       "123                           3853122   \n",
       "124                           3892061   \n",
       "125                           3928101   \n",
       "126                           3969180   \n",
       "\n",
       "     Miles traveled today (midnight to 11:59 pm) Miles traveled to date:  \\\n",
       "0                                         21.533                  21,533   \n",
       "1                                          8.780                  30,313   \n",
       "2                                         21.898                  52,211   \n",
       "3                                         20.321                  72,532   \n",
       "4                                         20.243                  92,775   \n",
       "..                                           ...                     ...   \n",
       "122                                       68.646               7,354,431   \n",
       "123                                       68.977               7,423,409   \n",
       "124                                       78.400               7,501,809   \n",
       "125                                       70.652               7,572,461   \n",
       "126                                       67.168               7,639,629   \n",
       "\n",
       "     Total Annual Members  Annual Member Sign-Ups (midnight to 11:59 pm)  \\\n",
       "0                   17216                                           2043   \n",
       "1                   19816                                           2598   \n",
       "2                   21986                                           2167   \n",
       "3                   23985                                           1998   \n",
       "4                   25615                                           1630   \n",
       "..                    ...                                            ...   \n",
       "122                 84305                                            175   \n",
       "123                 84519                                            213   \n",
       "124                 84712                                            193   \n",
       "125                 84913                                            201   \n",
       "126                 85236                                            323   \n",
       "\n",
       "     24-Hour Passes Purchased (midnight to 11:59 pm)  \\\n",
       "0                                                  0   \n",
       "1                                                  0   \n",
       "2                                                  0   \n",
       "3                                                  0   \n",
       "4                                                  0   \n",
       "..                                               ...   \n",
       "122                                              973   \n",
       "123                                             1321   \n",
       "124                                             3452   \n",
       "125                                             2718   \n",
       "126                                             1023   \n",
       "\n",
       "     7-Day Passes Purchased (midnight to 11:59 pm)  \n",
       "0                                                0  \n",
       "1                                                0  \n",
       "2                                                0  \n",
       "3                                                0  \n",
       "4                                                0  \n",
       "..                                             ...  \n",
       "122                                            117  \n",
       "123                                            137  \n",
       "124                                            126  \n",
       "125                                            161  \n",
       "126                                            140  \n",
       "\n",
       "[127 rows x 9 columns]"
      ]
     },
     "execution_count": 2,
     "metadata": {},
     "output_type": "execute_result"
    }
   ],
   "source": [
    "data"
   ]
  },
  {
   "cell_type": "code",
   "execution_count": 3,
   "metadata": {},
   "outputs": [
    {
     "data": {
      "text/plain": [
       "0      21.533\n",
       "1       8.780\n",
       "2      21.898\n",
       "3      20.321\n",
       "4      20.243\n",
       "        ...  \n",
       "122    68.646\n",
       "123    68.977\n",
       "124    78.400\n",
       "125    70.652\n",
       "126    67.168\n",
       "Name: Miles traveled today (midnight to 11:59 pm), Length: 127, dtype: float64"
      ]
     },
     "execution_count": 3,
     "metadata": {},
     "output_type": "execute_result"
    }
   ],
   "source": [
    "data['Miles traveled today (midnight to 11:59 pm)']"
   ]
  },
  {
   "cell_type": "code",
   "execution_count": 4,
   "metadata": {},
   "outputs": [],
   "source": [
    "daily_miles = data['Miles traveled today (midnight to 11:59 pm)']"
   ]
  },
  {
   "cell_type": "code",
   "execution_count": 5,
   "metadata": {},
   "outputs": [
    {
     "data": {
      "text/plain": [
       "0       9767\n",
       "1       5215\n",
       "2      10981\n",
       "3       9850\n",
       "4       9253\n",
       "       ...  \n",
       "122    42247\n",
       "123    41368\n",
       "124    38939\n",
       "125    36040\n",
       "126    41079\n",
       "Name: Trips over the past 24-hours (midnight to 11:59pm), Length: 127, dtype: int64"
      ]
     },
     "execution_count": 5,
     "metadata": {},
     "output_type": "execute_result"
    }
   ],
   "source": [
    "data['Trips over the past 24-hours (midnight to 11:59pm)']"
   ]
  },
  {
   "cell_type": "code",
   "execution_count": 6,
   "metadata": {},
   "outputs": [],
   "source": [
    "daily_trips = data['Trips over the past 24-hours (midnight to 11:59pm)']"
   ]
  },
  {
   "cell_type": "code",
   "execution_count": 13,
   "metadata": {},
   "outputs": [
    {
     "data": {
      "image/png": "[encoded data removed]",
      "text/plain": [
       "<Figure size 432x288 with 1 Axes>"
      ]
     },
     "metadata": {
      "needs_background": "light"
     },
     "output_type": "display_data"
    }
   ],
   "source": [
    "plt.hist(daily_miles, edgecolor = 'black')\n",
    "plt.show()"
   ]
  },
  {
   "cell_type": "code",
   "execution_count": 14,
   "metadata": {},
   "outputs": [
    {
     "data": {
      "image/png": "[encoded data removed]",
      "text/plain": [
       "<Figure size 432x288 with 1 Axes>"
      ]
     },
     "metadata": {
      "needs_background": "light"
     },
     "output_type": "display_data"
    }
   ],
   "source": [
    "plt.hist(daily_trips, edgecolor = 'black')\n",
    "plt.show()"
   ]
  },
  {
   "cell_type": "code",
   "execution_count": null,
   "metadata": {},
   "outputs": [],
   "source": []
  }
 ],
 "metadata": {
  "kernelspec": {
   "display_name": "Python 3",
   "language": "python",
   "name": "python3"
  },
  "language_info": {
   "codemirror_mode": {
    "name": "ipython",
    "version": 3
   },
   "file_extension": ".py",
   "mimetype": "text/x-python",
   "name": "python",
   "nbconvert_exporter": "python",
   "pygments_lexer": "ipython3",
   "version": "3.7.4"
  }
 },
 "nbformat": 4,
 "nbformat_minor": 2
}
